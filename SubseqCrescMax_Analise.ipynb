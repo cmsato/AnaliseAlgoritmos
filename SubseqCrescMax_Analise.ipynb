{
 "cells": [
  {
   "cell_type": "markdown",
   "metadata": {},
   "source": [
    "# Programação Dinâmica\n",
    "# Subsequência crescente máxima\n",
    "\n",
    "Bibliografia: Seção 6.2 de [Dasgupta-Papadimitriou-Vazirani](http://algorithmics.lsi.upc.edu/docs/Dasgupta-Papadimitriou-Vazirani.pdf)\n",
    "\n",
    "Considere uma sequencia de números $(a_1,\\dotsc, a_n)$. \n",
    "\n",
    "Exemplo: $(5,2,8,6,3,6,9,7)$ é uma sequência de comprimento $8$.\n",
    "\n",
    "Uma **subsequência** de $(a_1,\\dotsc, a_n)$ é uma sequência contida em $(a_1,\\dotsc, a_n)$.\n",
    "\n",
    "Exemplos de subsequências de $(5,2,8,6,3,6,9,7)$:\n",
    "\n",
    "* $()$ - sequencia vazia\n",
    "* $(8)$\n",
    "* $(5,2,8)$\n",
    "* $(2,6,9)$ - note que os elementos não precisam aparecer consecutivamente na sequência original\n",
    "* $(5,2,8,6,3,6,9,7)$\n",
    "\n",
    "Mais precisamente, uma subsequência de $(a_1,\\dotsc, a_n)$ é sequência $(a_{i_1},\\dotsc, a_{i_k}$ com $1\\leq i_1<i_2<\\cdots<i_k$.\n",
    "\n",
    "> **Exercício:** Liste todas as subsequências de $(2,3,4,1)$. Quantas subsequências temos?\n",
    "\n",
    "> **Exercício:** Para $n$, quantas subsequências para $(1,\\dotsc, n)$ existem?\n",
    "\n",
    "> **Exercício:** Faça um programa que recebe $n$ e uma sequencia de $n$ elementos e lista todas as subsequências. Qual o seu tempo de execução?"
   ]
  },
  {
   "cell_type": "code",
   "execution_count": null,
   "metadata": {
    "collapsed": true
   },
   "outputs": [],
   "source": []
  },
  {
   "cell_type": "markdown",
   "metadata": {},
   "source": [
    "Dizemos que uma sequência $(a_1,\\dots, a_n)$ é **crescente** se $a_1<a_2<\\cdots<a_n$.\n",
    "\n",
    "Exemplos para $(5,2,8,6,3,6,9,7)$:\n",
    "- $(5)$\n",
    "- $(5,8,9)$\n",
    "- $(2,3,6,9)$\n",
    "\n",
    "Vamos estudar o seguinte problema: dada uma sequência, encontre uma subsequência crescente de comprimento máximo.\n",
    "\n",
    "### Problema (SUBSEQ-CRESC-MAX):\n",
    "- Entrada: Uma sequência $(a_1,\\dotsc, a_n)$ de reais\n",
    "- Soluções viáveis: todas as subsequências crescentes de $(a_1,\\dotsc, a_n$\n",
    "- Objetivo: maximizar o comprimento da subsequência\n",
    "\n",
    ">**Exercício**: Liste todas as subsequências ótimas para (SUBSEQ-CRESC-MAX) para $(5,2,8,6,3,6,9,7)$ e para $(1,4,2,3,6,8,7)$.\n",
    "\n",
    ">**Exercício:** Faça um programa que recebe $n$ e uma sequencia de $n$ elementos e lista todas as subsequências crescentes e mostra o comprimento da maior subsequencia crescente. Qual o seu tempo de execução?"
   ]
  },
  {
   "cell_type": "code",
   "execution_count": null,
   "metadata": {
    "collapsed": true
   },
   "outputs": [],
   "source": []
  },
  {
   "cell_type": "markdown",
   "metadata": {},
   "source": [
    "# Subproblemas\n",
    "\n",
    "Similarmente à estratégia de divisão-e-conquista, vamos quebrar o nosso problema em subproblemas menores.\n",
    "\n",
    "Para cada $1\\leq j\\leq n$, defina\n",
    "\n",
    "### Subproblema $j$:\n",
    "\n",
    "Encontre o comprimento da maior subsequência crescente $(a_{i_1},\\dotsc, a_{i_k})$ com $i_k=j$. Se $L(j)$ esse comprimento.\n",
    "\n",
    "Ou seja, no Subproblema $j$ consideramos apenas as subsequências terminando na posição $j$.\n",
    "\n",
    "### Como usar os subproblemas para resolver o nosso problema?\n",
    "\n",
    "Comprimento da maior subsequência crescente $= \\max_{j=1,\\dotsc, n} L(j)$\n",
    "\n",
    "### Como calcular $L(j)$?\n",
    "Basta notar que $L(1)=1$ e, para $j>1$,\n",
    "$$\n",
    "L(j) = 1+\\max\\{L(i): i<j \\textrm{ com } a_{i}<a_{j}\\}\n",
    "$$\n",
    "\n",
    "Ou seja, a solução de $L(j)$ depende das soluções para $L(i)$ com $i<j$ e $a_i < a_j$.\n",
    "\n",
    "Podemos representar isso em um digrafo.\n",
    "\n",
    "Por exemplo, para $(5,2,8,6,3,6,9,7)$:\n",
    "- $L(1) = 1$ -> $(5)$\n",
    "- $L(2) = 1$ -> $(2)$\n",
    "- $L(3) = 1+\\max\\{L(1),L(2)\\} = 2$ -> $(5,8)$, $(2,8)$\n",
    "- $L(4) = 1+\\max\\{L(1),L(2)\\} = 2$ -> $(5,6)$, $(2,6)$ \n",
    "- $L(5) = 1+\\max\\{L(2)\\} = 2$ -> $(2,3)$\n",
    "- $L(6) = 1+\\max\\{L(1),L(2),L(5)\\} = 3$ -> $(2,3,6)$\n",
    "- $L(7) = 1+\\max\\{L(1),L(2),L(3),L(4),L(5),L(6)\\} = 4$ -> $(2,3,6,9)$\n",
    "- $L(8) = 1+\\max\\{L(1),L(2),L(4),L(5),L(6)\\} = 4$ -> $(2,3,6,7)$\n",
    "\n",
    ">**Exercício:** Liste todos os $L(j)$ como acima para:\n",
    "> - $(1,4,2,3,6,8,7)$\n",
    "> - $(1,2,3,4,5)$\n",
    "> - $(5,4,3,2,1)$\n",
    "> - $(1,2,3,2,3,4)$.\n",
    "\n",
    "Assim temos o seguinte algoritmo:\n"
   ]
  },
  {
   "cell_type": "code",
   "execution_count": 1,
   "metadata": {
    "collapsed": false
   },
   "outputs": [],
   "source": [
    "def scm(A): #Note que aqui os indices vao de 0 a n-1\n",
    "    n = len(A)\n",
    "    L = [0]*n #uma lista de comprimento n\n",
    "    for j in range(n): #para j de 0 a n-1\n",
    "        m = 0\n",
    "        for i in range(j): #para i de 0 a j-1\n",
    "            if A[i]<A[j] and L[i]>m:\n",
    "                m = L[i]\n",
    "        L[j] = 1+m\n",
    "    print(L)\n",
    "    return max(L)"
   ]
  },
  {
   "cell_type": "code",
   "execution_count": 2,
   "metadata": {
    "collapsed": false
   },
   "outputs": [
    {
     "name": "stdout",
     "output_type": "stream",
     "text": [
      "[1, 1, 2, 2, 2, 3, 4, 4]\n"
     ]
    },
    {
     "data": {
      "text/plain": [
       "4"
      ]
     },
     "execution_count": 2,
     "metadata": {},
     "output_type": "execute_result"
    }
   ],
   "source": [
    "scm((5,2,8,6,3,6,9,7))"
   ]
  },
  {
   "cell_type": "markdown",
   "metadata": {},
   "source": [
    ">**Exercício:** Analise o tempo de execução de ```scm(A)```, onde ```A``` tem comprimento $n$, no pior caso.\n",
    "\n",
    "Este é um exemplo clássico de **programação dinâmica**:\n",
    "- Dividimos o nosso problema em subproblemas\n",
    "- Ordenamos os subproblemas de modo que se um subproblema j depende de um subproblema i, então o subproblema i é resolvido antes do subproblema j"
   ]
  },
  {
   "cell_type": "markdown",
   "metadata": {},
   "source": [
    "Note que ```scm(A)``` calcula apenas os valores de $L[j]$. \n",
    "\n",
    "### Como fazer para devolver a subsequência ótima?\n",
    "\n",
    "Ao calcularmos $L(j)$, basta guardar qual foi o $i$ que maximizou $L(i)$. Digamos que guardamos em $p[j]$\n",
    "\n",
    "Por exemplo:\n",
    "\n",
    "Por exemplo, para $(5,2,8,6,3,6,9,7)$:\n",
    "- $L(1) = 1$ -> $(5)$ - p[1] = não definido\n",
    "- $L(2) = 1$ -> $(2)$ - p[2] = não definido\n",
    "- $L(3) = 1+\\max\\{L(1),L(2)\\} = 2$ -> p[3]=1 (aqui houve empate)\n",
    "- $L(4) = 1+\\max\\{L(1),L(2)\\} = 2$ -> p[4]=1 (aqui houve empate)\n",
    "- $L(5) = 1+\\max\\{L(2)\\} = 2$ -> $(2,3)$ -> p[5]=2 \n",
    "- $L(6) = 1+\\max\\{L(1),L(2),L(5)\\} = 3$ -> p[6]=5\n",
    "- $L(7) = 1+\\max\\{L(1),L(2),L(3),L(4),L(5),L(6)\\} = 4$ -> p[7]=6\n",
    "\n",
    "Para recuperarmos uma subsequência com comprimento $L(7)$, podemos recuperar uma subsequência crescente da seguinte maneira:\n",
    "- Começamos em ```7```: $(9)$\n",
    "- ```p[7]=6```: $(6,9)$\n",
    "- ```p[6]=5```: $(3,6,9)$\n",
    "- ```p[5]=2```: $(2,3,6,9)$\n",
    "- ```p[2]``` não está definido\n",
    "- Subsequência: $(2,3,6,9)$\n",
    "\n",
    "O vetor $p$ define árvores.\n",
    "\n",
    "\n",
    ">**Exercício:** Mostre p[.] e mostre a subsequência ótima para \n",
    "> - $(1,4,2,3,6,8,7)$\n",
    "> - $(1,2,3,4,5)$\n",
    "> - $(5,4,3,2,1)$\n",
    "> - $(1,2,3,2,3,4)$.\n",
    ">\n",
    ">**Exercício:** Modifique ```scm(A)``` para calcular p e mostrar a subsequência ótima."
   ]
  },
  {
   "cell_type": "markdown",
   "metadata": {},
   "source": [
    "## Recursão?\n",
    "\n",
    "A fórmula \n",
    "- $L(1)=1$\n",
    "- para $j>1$,\n",
    "$L(j) = 1+\\max\\{L(i): i<j \\textrm{ com } a_{i}<a_{j}\\}$\n",
    "\n",
    "é uma recorrência.\n",
    "\n",
    "Então porque não calcular recursivamente?\n",
    "\n",
    "```\n",
    "L(j):\n",
    "    se j=1 devolva 1\n",
    "    senão m = 0 \n",
    "          para i de 1 a j-1\n",
    "            se A[i]<A[j] então\n",
    "                x = L(i)\n",
    "                se x>m então m = x\n",
    "          devolva m+1\n",
    "```\n",
    "\n",
    ">**Exercício:** Desenhe a árvore de chamadas de L para \n",
    "> - $(1,4,2,3,6,8,7)$\n",
    "> - $(1,2,3,4,5)$\n",
    "\n",
    "Como vemos temos muitas repetições!\n",
    "\n",
    ">**Exercício:** Calcule o número de chamadas para $L(n)$ e o vetor $A=[1,2,\\dotsc, n]$.\n",
    "\n",
    "Isso quer dizer que não devemos usar recursão?"
   ]
  },
  {
   "cell_type": "markdown",
   "metadata": {},
   "source": [
    "## Recursão memoizada\n",
    "\n",
    "Ideia: guardar os valores já calculados!\n",
    "\n",
    "```\n",
    "Resp[1..n] inicializado com 0\n",
    "\n",
    "L(j):\n",
    "    se Resp[j]==0 então\n",
    "        se j==1 então Resp[1]=1 \n",
    "        senão m = 0 \n",
    "            para i de 1 a j-1\n",
    "                se A[i]<A[j] então\n",
    "                    x = L(i)\n",
    "                    se x>m então m = x\n",
    "            Resp[j] = m+1\n",
    "   retorne Resp[j]     \n",
    "```\n",
    "\n",
    "Como isso afeta a árvore de chamadas?\n",
    "\n",
    ">**Exercício:** Desenhe a árvore de chamadas de L para \n",
    "> - $(1,4,2,3,6,8,7)$\n",
    "> - $(1,2,3,4,5)$\n",
    "\n",
    ">**Exercício:** Implemente a recursão memoizada.\n",
    "\n",
    "Como comparamos a recursão memoizada com o algoritmo de programação dinâmica?"
   ]
  },
  {
   "cell_type": "code",
   "execution_count": null,
   "metadata": {
    "collapsed": true
   },
   "outputs": [],
   "source": []
  }
 ],
 "metadata": {
  "kernelspec": {
   "display_name": "Python 3",
   "language": "python",
   "name": "python3"
  },
  "language_info": {
   "codemirror_mode": {
    "name": "ipython",
    "version": 3
   },
   "file_extension": ".py",
   "mimetype": "text/x-python",
   "name": "python",
   "nbconvert_exporter": "python",
   "pygments_lexer": "ipython3",
   "version": "3.5.1"
  }
 },
 "nbformat": 4,
 "nbformat_minor": 0
}
